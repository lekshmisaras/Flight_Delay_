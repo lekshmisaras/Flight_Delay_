{
 "cells": [
  {
   "cell_type": "code",
   "execution_count": 1,
   "metadata": {
    "collapsed": true
   },
   "outputs": [],
   "source": [
    "import pandas as pd\n",
    "import numpy as np\n",
    "import matplotlib.pyplot as plt \n",
    "\n",
    "from sklearn import metrics\n",
    "from sklearn import preprocessing\n",
    "from sklearn.model_selection import train_test_split\n",
    "\n",
    "import datetime\n",
    "import time\n",
    "from datetime import timedelta\n",
    "\n",
    "import os\n",
    "import pickle\n",
    "import requests\n",
    "import json\n",
    "import flask\n",
    "\n",
    "%matplotlib inline"
   ]
  },
  {
   "cell_type": "code",
   "execution_count": 2,
   "metadata": {
    "collapsed": true
   },
   "outputs": [],
   "source": [
    "df = pd.read_csv(r\"C:\\Users\\rg654th\\Downloads\\Flight Delay\\Clean Data\\Clean Historical Data.csv\", parse_dates=[0], infer_datetime_format=True)"
   ]
  },
  {
   "cell_type": "code",
   "execution_count": 3,
   "metadata": {},
   "outputs": [
    {
     "data": {
      "text/html": [
       "<div>\n",
       "<style>\n",
       "    .dataframe thead tr:only-child th {\n",
       "        text-align: right;\n",
       "    }\n",
       "\n",
       "    .dataframe thead th {\n",
       "        text-align: left;\n",
       "    }\n",
       "\n",
       "    .dataframe tbody tr th {\n",
       "        vertical-align: top;\n",
       "    }\n",
       "</style>\n",
       "<table border=\"1\" class=\"dataframe\">\n",
       "  <thead>\n",
       "    <tr style=\"text-align: right;\">\n",
       "      <th></th>\n",
       "      <th>Terminal</th>\n",
       "      <th>Destination</th>\n",
       "      <th>Airline</th>\n",
       "      <th>Flight No.</th>\n",
       "      <th>Scheduled DateTime</th>\n",
       "      <th>Month</th>\n",
       "      <th>Weekday</th>\n",
       "      <th>Minute Delay</th>\n",
       "      <th>Delay Type</th>\n",
       "      <th>Scheduled Date</th>\n",
       "      <th>Scheduled Time</th>\n",
       "      <th>Real Departure Time</th>\n",
       "      <th>Delay? (20 min)</th>\n",
       "    </tr>\n",
       "  </thead>\n",
       "  <tbody>\n",
       "    <tr>\n",
       "      <th>0</th>\n",
       "      <td>T2</td>\n",
       "      <td>Glasgow</td>\n",
       "      <td>Aer Lingus</td>\n",
       "      <td>EI3228</td>\n",
       "      <td>2019-05-31 18:30:00</td>\n",
       "      <td>May</td>\n",
       "      <td>Friday</td>\n",
       "      <td>14</td>\n",
       "      <td>Short</td>\n",
       "      <td>31-05-2019</td>\n",
       "      <td>18:00</td>\n",
       "      <td>18:44</td>\n",
       "      <td>No</td>\n",
       "    </tr>\n",
       "  </tbody>\n",
       "</table>\n",
       "</div>"
      ],
      "text/plain": [
       "  Terminal Destination     Airline Flight No.  Scheduled DateTime Month  \\\n",
       "0       T2     Glasgow  Aer Lingus     EI3228 2019-05-31 18:30:00   May   \n",
       "\n",
       "  Weekday  Minute Delay Delay Type Scheduled Date Scheduled Time  \\\n",
       "0  Friday            14      Short     31-05-2019          18:00   \n",
       "\n",
       "  Real Departure Time Delay? (20 min)  \n",
       "0               18:44              No  "
      ]
     },
     "execution_count": 3,
     "metadata": {},
     "output_type": "execute_result"
    }
   ],
   "source": [
    "# New Column and Format\n",
    "df['Scheduled DateTime'] = pd.to_datetime(df['Scheduled DateTime'], infer_datetime_format=True)\n",
    "df['Scheduled Time'] = df['Scheduled DateTime'].dt.strftime('%H:00')\n",
    "df['Delay? (20 min)'] = np.where(df['Minute Delay'] >= 20, 'Yes', 'No')\n",
    "df.head(1)"
   ]
  },
  {
   "cell_type": "code",
   "execution_count": 4,
   "metadata": {},
   "outputs": [
    {
     "data": {
      "text/html": [
       "<div>\n",
       "<style>\n",
       "    .dataframe thead tr:only-child th {\n",
       "        text-align: right;\n",
       "    }\n",
       "\n",
       "    .dataframe thead th {\n",
       "        text-align: left;\n",
       "    }\n",
       "\n",
       "    .dataframe tbody tr th {\n",
       "        vertical-align: top;\n",
       "    }\n",
       "</style>\n",
       "<table border=\"1\" class=\"dataframe\">\n",
       "  <thead>\n",
       "    <tr style=\"text-align: right;\">\n",
       "      <th></th>\n",
       "      <th>Terminal</th>\n",
       "      <th>Destination</th>\n",
       "      <th>Airline</th>\n",
       "      <th>Weekday</th>\n",
       "      <th>Scheduled Time</th>\n",
       "      <th>Delay? (20 min)</th>\n",
       "      <th>Origin</th>\n",
       "    </tr>\n",
       "  </thead>\n",
       "  <tbody>\n",
       "    <tr>\n",
       "      <th>0</th>\n",
       "      <td>T2</td>\n",
       "      <td>Glasgow</td>\n",
       "      <td>Aer Lingus</td>\n",
       "      <td>Friday</td>\n",
       "      <td>18:00</td>\n",
       "      <td>No</td>\n",
       "      <td>Dublin</td>\n",
       "    </tr>\n",
       "    <tr>\n",
       "      <th>1</th>\n",
       "      <td>T2</td>\n",
       "      <td>Alicante</td>\n",
       "      <td>Aer Lingus</td>\n",
       "      <td>Friday</td>\n",
       "      <td>18:00</td>\n",
       "      <td>Yes</td>\n",
       "      <td>Dublin</td>\n",
       "    </tr>\n",
       "    <tr>\n",
       "      <th>2</th>\n",
       "      <td>T1</td>\n",
       "      <td>Vienna</td>\n",
       "      <td>Laudamotion</td>\n",
       "      <td>Friday</td>\n",
       "      <td>18:00</td>\n",
       "      <td>No</td>\n",
       "      <td>Dublin</td>\n",
       "    </tr>\n",
       "  </tbody>\n",
       "</table>\n",
       "</div>"
      ],
      "text/plain": [
       "  Terminal Destination      Airline Weekday Scheduled Time Delay? (20 min)  \\\n",
       "0       T2     Glasgow   Aer Lingus  Friday          18:00              No   \n",
       "1       T2    Alicante   Aer Lingus  Friday          18:00             Yes   \n",
       "2       T1      Vienna  Laudamotion  Friday          18:00              No   \n",
       "\n",
       "   Origin  \n",
       "0  Dublin  \n",
       "1  Dublin  \n",
       "2  Dublin  "
      ]
     },
     "execution_count": 4,
     "metadata": {},
     "output_type": "execute_result"
    }
   ],
   "source": [
    "traindf = df.drop(['Flight No.', 'Delay Type', 'Minute Delay', 'Month', 'Scheduled Date','Scheduled DateTime', 'Real Departure Time'], axis=1)\n",
    "traindf = traindf.dropna()\n",
    "traindf['Origin'] = \"Dublin\"\n",
    "traindf.head(3)"
   ]
  },
  {
   "cell_type": "code",
   "execution_count": 5,
   "metadata": {
    "collapsed": true
   },
   "outputs": [],
   "source": [
    "# getting airline, weeekday and destination list\n",
    "\n",
    "list_airlines = traindf.Airline.unique()\n",
    "list_airlines.sort()\n",
    "list_destination = traindf.Destination.unique()\n",
    "list_destination.sort()\n",
    "# weekdays = Monday, Tuesday, Wednesday, Thursday, Friday, Saturday, Sunday"
   ]
  },
  {
   "cell_type": "code",
   "execution_count": 6,
   "metadata": {},
   "outputs": [
    {
     "data": {
      "text/html": [
       "<div>\n",
       "<style>\n",
       "    .dataframe thead tr:only-child th {\n",
       "        text-align: right;\n",
       "    }\n",
       "\n",
       "    .dataframe thead th {\n",
       "        text-align: left;\n",
       "    }\n",
       "\n",
       "    .dataframe tbody tr th {\n",
       "        vertical-align: top;\n",
       "    }\n",
       "</style>\n",
       "<table border=\"1\" class=\"dataframe\">\n",
       "  <thead>\n",
       "    <tr style=\"text-align: right;\">\n",
       "      <th></th>\n",
       "      <th>Terminal_T1</th>\n",
       "      <th>Terminal_T2</th>\n",
       "      <th>Destination_Aberdeen</th>\n",
       "      <th>Destination_Abu Dhabi</th>\n",
       "      <th>Destination_Agadir</th>\n",
       "      <th>Destination_Alicante</th>\n",
       "      <th>Destination_Almeria</th>\n",
       "      <th>Destination_Amsterdam</th>\n",
       "      <th>Destination_Athens</th>\n",
       "      <th>Destination_Atlanta</th>\n",
       "      <th>...</th>\n",
       "      <th>Scheduled Time_17:00</th>\n",
       "      <th>Scheduled Time_18:00</th>\n",
       "      <th>Scheduled Time_19:00</th>\n",
       "      <th>Scheduled Time_20:00</th>\n",
       "      <th>Scheduled Time_21:00</th>\n",
       "      <th>Scheduled Time_22:00</th>\n",
       "      <th>Scheduled Time_23:00</th>\n",
       "      <th>Delay? (20 min)_No</th>\n",
       "      <th>Delay? (20 min)_Yes</th>\n",
       "      <th>Origin_Dublin</th>\n",
       "    </tr>\n",
       "  </thead>\n",
       "  <tbody>\n",
       "    <tr>\n",
       "      <th>0</th>\n",
       "      <td>0</td>\n",
       "      <td>1</td>\n",
       "      <td>0</td>\n",
       "      <td>0</td>\n",
       "      <td>0</td>\n",
       "      <td>0</td>\n",
       "      <td>0</td>\n",
       "      <td>0</td>\n",
       "      <td>0</td>\n",
       "      <td>0</td>\n",
       "      <td>...</td>\n",
       "      <td>0</td>\n",
       "      <td>1</td>\n",
       "      <td>0</td>\n",
       "      <td>0</td>\n",
       "      <td>0</td>\n",
       "      <td>0</td>\n",
       "      <td>0</td>\n",
       "      <td>1</td>\n",
       "      <td>0</td>\n",
       "      <td>1</td>\n",
       "    </tr>\n",
       "  </tbody>\n",
       "</table>\n",
       "<p>1 rows × 253 columns</p>\n",
       "</div>"
      ],
      "text/plain": [
       "   Terminal_T1  Terminal_T2  Destination_Aberdeen  Destination_Abu Dhabi  \\\n",
       "0            0            1                     0                      0   \n",
       "\n",
       "   Destination_Agadir  Destination_Alicante  Destination_Almeria  \\\n",
       "0                   0                     0                    0   \n",
       "\n",
       "   Destination_Amsterdam  Destination_Athens  Destination_Atlanta  \\\n",
       "0                      0                   0                    0   \n",
       "\n",
       "       ...        Scheduled Time_17:00  Scheduled Time_18:00  \\\n",
       "0      ...                           0                     1   \n",
       "\n",
       "   Scheduled Time_19:00  Scheduled Time_20:00  Scheduled Time_21:00  \\\n",
       "0                     0                     0                     0   \n",
       "\n",
       "   Scheduled Time_22:00  Scheduled Time_23:00  Delay? (20 min)_No  \\\n",
       "0                     0                     0                   1   \n",
       "\n",
       "   Delay? (20 min)_Yes  Origin_Dublin  \n",
       "0                    0              1  \n",
       "\n",
       "[1 rows x 253 columns]"
      ]
     },
     "execution_count": 6,
     "metadata": {},
     "output_type": "execute_result"
    }
   ],
   "source": [
    "newtraindf = pd.get_dummies(traindf)\n",
    "newtraindf.head(1)"
   ]
  },
  {
   "cell_type": "code",
   "execution_count": 7,
   "metadata": {
    "collapsed": true
   },
   "outputs": [],
   "source": [
    "# Split Data\n",
    "x_data = newtraindf.drop(['Delay? (20 min)_No', 'Delay? (20 min)_Yes'],axis=1)\n",
    "y_data = newtraindf['Delay? (20 min)_Yes']\n",
    "x_train, x_test, y_train, y_test = train_test_split(x_data,y_data,test_size=0.26)"
   ]
  },
  {
   "cell_type": "code",
   "execution_count": 8,
   "metadata": {},
   "outputs": [
    {
     "name": "stderr",
     "output_type": "stream",
     "text": [
      "C:\\Users\\rg654th\\AppData\\Local\\Continuum\\anaconda3\\envs\\tfdeeplearning\\lib\\site-packages\\sklearn\\ensemble\\weight_boosting.py:29: DeprecationWarning: numpy.core.umath_tests is an internal NumPy module and should not be imported. It will be removed in a future NumPy release.\n",
      "  from numpy.core.umath_tests import inner1d\n"
     ]
    }
   ],
   "source": [
    "# Ensemble \n",
    "from sklearn.ensemble import AdaBoostClassifier"
   ]
  },
  {
   "cell_type": "code",
   "execution_count": 9,
   "metadata": {},
   "outputs": [
    {
     "data": {
      "text/plain": [
       "AdaBoostClassifier(algorithm='SAMME.R', base_estimator=None,\n",
       "          learning_rate=1.0, n_estimators=50, random_state=None)"
      ]
     },
     "execution_count": 9,
     "metadata": {},
     "output_type": "execute_result"
    }
   ],
   "source": [
    "adamodel = AdaBoostClassifier()\n",
    "adamodel.fit(x_train, y_train)"
   ]
  },
  {
   "cell_type": "code",
   "execution_count": 10,
   "metadata": {},
   "outputs": [
    {
     "name": "stdout",
     "output_type": "stream",
     "text": [
      "Precision  0.6212121212121212\n",
      "Accuracy  0.689928628072958\n",
      "Recall  0.28018223234624146\n"
     ]
    }
   ],
   "source": [
    "y_pred = adamodel.predict(x_test)\n",
    "\n",
    "score2 = metrics.accuracy_score(y_test, y_pred)\n",
    "score3 = metrics.precision_score(y_test, y_pred)\n",
    "score4 = metrics.recall_score(y_test, y_pred)\n",
    "\n",
    "print(\"Precision\", \"\", score3)\n",
    "print(\"Accuracy\", \"\", score2)\n",
    "print(\"Recall\", \"\", score4)"
   ]
  },
  {
   "cell_type": "code",
   "execution_count": 11,
   "metadata": {
    "collapsed": true
   },
   "outputs": [],
   "source": [
    "with open('model.pkl', 'wb') as fid:\n",
    "    pickle.dump(adamodel, fid,2) "
   ]
  },
  {
   "cell_type": "code",
   "execution_count": 12,
   "metadata": {
    "collapsed": true
   },
   "outputs": [],
   "source": [
    "# get dictionary for reference later in form\n",
    "index_dict = dict(zip(x_data.columns,range(x_data.shape[1])))"
   ]
  },
  {
   "cell_type": "code",
   "execution_count": 13,
   "metadata": {
    "collapsed": true
   },
   "outputs": [],
   "source": [
    "with open('x_data', 'wb') as fid:\n",
    "    pickle.dump(index_dict, fid,2)  "
   ]
  }
 ],
 "metadata": {
  "kernelspec": {
   "display_name": "Python 3",
   "language": "python",
   "name": "python3"
  },
  "language_info": {
   "codemirror_mode": {
    "name": "ipython",
    "version": 3
   },
   "file_extension": ".py",
   "mimetype": "text/x-python",
   "name": "python",
   "nbconvert_exporter": "python",
   "pygments_lexer": "ipython3",
   "version": "3.5.4"
  }
 },
 "nbformat": 4,
 "nbformat_minor": 2
}
